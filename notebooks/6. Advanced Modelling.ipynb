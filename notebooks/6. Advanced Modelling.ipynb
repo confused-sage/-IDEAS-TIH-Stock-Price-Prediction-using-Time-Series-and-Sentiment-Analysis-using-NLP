{
  "cells": [
    {
      "cell_type": "code",
      "execution_count": null,
      "metadata": {},
      "outputs": [],
      "source": [
        "import pandas as pd\n",
        "import numpy as np\n",
        "import matplotlib.pyplot as plt\n",
        "import seaborn as sns\n",
        "from scipy import stats\n",
        "from sklearn.preprocessing import LabelEncoder\n",
        "from sklearn.preprocessing import MinMaxScaler, StandardScaler\n",
        "from datetime import datetime\n",
        "import os\n",
        "import joblib\n",
        "import tensorflow as tf\n",
        "from tensorflow.keras.models import Model\n",
        "from tensorflow.keras.layers import MultiHeadAttention, LayerNormalization, Add\n",
        "from tensorflow.keras.layers import (\n",
        "    Input, LSTM, Bidirectional, Dense, Dropout, BatchNormalization,\n",
        "    Embedding, Concatenate, RepeatVector, TimeDistributed, Lambda, Layer,\n",
        "    MaxPooling1D, Conv1D, GlobalMaxPooling1D, GlobalAveragePooling1D,\n",
        "    Flatten\n",
        ")\n",
        "from sklearn.utils import class_weight\n",
        "from tensorflow.keras import regularizers\n",
        "from tensorflow.keras.optimizers import Adam\n",
        "from sklearn.metrics import classification_report, accuracy_score, f1_score\n",
        "import xgboost as xgb\n",
        "from itertools import product\n",
        "from pathlib import Path\n"
      ]
    },
    {
      "cell_type": "code",
      "execution_count": null,
      "metadata": {},
      "outputs": [],
      "source": [
        "SEED = 42\n",
        "os.environ['PYTHONHASHSEED'] = str(SEED)\n",
        "random.seed(SEED)\n",
        "np.random.seed(SEED)\n",
        "tf.random.set_seed(SEED)"
      ]
    },
    {
      "cell_type": "code",
      "execution_count": null,
      "metadata": {},
      "outputs": [],
      "source": [
        "# Setting up the subfolder to store general data\n",
        "\n",
        "project_root = Path.cwd().parent\n",
        "data_path = project_root / \"data\"\n",
        "data_path.mkdir(exist_ok=True)"
      ]
    },
    {
      "cell_type": "code",
      "execution_count": null,
      "metadata": {},
      "outputs": [],
      "source": [
        "balanced_train_df = pd.read_csv(data_path / \"all_train_df.csv\")\n",
        "val_df = pd.read_csv(data_path / \"all_val_df.csv\")\n",
        "test_df = pd.read_csv(data_path / \"all_test_df.csv\")"
      ]
    },
    {
      "cell_type": "code",
      "execution_count": 31,
      "metadata": {
        "id": "hxbLtm1QmH5M"
      },
      "outputs": [],
      "source": [
        "lstm_scaled_features = [\n",
        "    'Close', 'Open', 'High', 'Low', 'Volume',\n",
        "    'SMA_5', 'SMA_10', 'SMA_20', 'SMA_30',\n",
        "    'RSI_14', 'BB_Width',\n",
        "    'MACD', 'MACD_Signal', 'MACD_Diff',\n",
        "    'Price Range', 'Volatility_5', 'Volatility_10', 'Return_5', 'Price Change'\n",
        "]\n",
        "\n",
        "lstm_unscaled_features = []"
      ]
    },
    {
      "cell_type": "code",
      "execution_count": 32,
      "metadata": {
        "id": "vSI3tEVswU2j"
      },
      "outputs": [],
      "source": [
        "lstm_features = lstm_scaled_features + lstm_unscaled_features"
      ]
    },
    {
      "cell_type": "code",
      "execution_count": 33,
      "metadata": {
        "id": "LLzYUqORmUau"
      },
      "outputs": [],
      "source": [
        "xgb_scaled_features = [\n",
        "    'Weighted_Sentiment', 'Mean_Sentiment', 'Headline_Count',\n",
        "    'SMA_5', 'RSI_14', 'MACD', 'MACD_Diff', 'BB_Width',\n",
        "]\n",
        "\n",
        "xgb_unscaled_features = [\n",
        "    'Month_sin', 'Month_cos', 'DayOfWeek_sin', 'DayOfWeek_cos',\n",
        "    'Has_Sentiment'\n",
        "]\n"
      ]
    },
    {
      "cell_type": "code",
      "execution_count": 34,
      "metadata": {
        "id": "n9FUKQZ1Dh03"
      },
      "outputs": [],
      "source": [
        "xgb_features = xgb_scaled_features + xgb_unscaled_features"
      ]
    },
    {
      "cell_type": "code",
      "execution_count": 35,
      "metadata": {
        "id": "upb1J4nY0uNL"
      },
      "outputs": [],
      "source": [
        "all_scaled_features = list(dict.fromkeys(lstm_scaled_features + xgb_scaled_features))"
      ]
    },
    {
      "cell_type": "code",
      "execution_count": null,
      "metadata": {
        "id": "2KsbaVepw38P"
      },
      "outputs": [],
      "source": [
        "def fit_scaler(df, feature_cols):\n",
        "    df = df.copy()\n",
        "    feature_cols = list(dict.fromkeys(feature_cols))\n",
        "    df = df[feature_cols]\n",
        "    scaler = StandardScaler()\n",
        "    df_scaled = scaler.fit_transform(df)\n",
        "    df_scaled = pd.DataFrame(df_scaled, columns=feature_cols, index=df.index)\n",
        "    return df_scaled, scaler\n",
        "\n",
        "def transform_scaler(df, scaler, feature_cols):\n",
        "    df = df.copy()\n",
        "    for col in feature_cols:\n",
        "        if col not in df.columns:\n",
        "            df[col] = 0\n",
        "    df = df[feature_cols]\n",
        "    df_scaled = scaler.transform(df)\n",
        "    df_scaled = pd.DataFrame(df_scaled, columns=feature_cols, index=df.index)\n",
        "    return df_scaled\n"
      ]
    },
    {
      "cell_type": "code",
      "execution_count": 37,
      "metadata": {
        "colab": {
          "base_uri": "https://localhost:8080/"
        },
        "id": "nhR5NFbS5QME",
        "outputId": "6c9f0e7a-b447-4a0e-c74c-31eec284c30b"
      },
      "outputs": [
        {
          "data": {
            "text/plain": [
              "['lsxg_scaler.pkl']"
            ]
          },
          "execution_count": 37,
          "metadata": {},
          "output_type": "execute_result"
        }
      ],
      "source": [
        "# Scale\n",
        "scaled_train_features, scaler = fit_scaler(balanced_train_df, all_scaled_features)\n",
        "scaled_val_features = transform_scaler(val_df, scaler, all_scaled_features)\n",
        "scaled_test_features = transform_scaler(test_df, scaler, all_scaled_features)\n",
        "\n",
        "balanced_train_df = balanced_train_df.copy()\n",
        "val_df = val_df.copy()\n",
        "test_df = test_df.copy()\n",
        "\n",
        "# Replaced only scaled features in original dfs\n",
        "for df, scaled in zip(\n",
        "    [balanced_train_df, val_df, test_df],\n",
        "    [scaled_train_features, scaled_val_features, scaled_test_features]\n",
        "):\n",
        "    df[all_scaled_features] = scaled\n",
        "\n",
        "joblib.dump(scaler, 'lsxg_scaler.pkl')\n"
      ]
    },
    {
      "cell_type": "code",
      "execution_count": 38,
      "metadata": {
        "colab": {
          "base_uri": "https://localhost:8080/"
        },
        "id": "I-LmycqILOL5",
        "outputId": "50f10ec1-299f-4591-e5f2-93dbba7f2990"
      },
      "outputs": [
        {
          "name": "stdout",
          "output_type": "stream",
          "text": [
            "<class 'pandas.core.frame.DataFrame'>\n",
            "RangeIndex: 9993 entries, 0 to 9992\n",
            "Data columns (total 74 columns):\n",
            " #   Column              Non-Null Count  Dtype         \n",
            "---  ------              --------------  -----         \n",
            " 0   Stock Type          9993 non-null   int64         \n",
            " 1   Date                9993 non-null   datetime64[ns]\n",
            " 2   Close               9993 non-null   float64       \n",
            " 3   High                9993 non-null   float64       \n",
            " 4   Low                 9993 non-null   float64       \n",
            " 5   Open                9993 non-null   float64       \n",
            " 6   Volume              9993 non-null   float64       \n",
            " 7   Year                9993 non-null   int64         \n",
            " 8   MonthLength         9993 non-null   int64         \n",
            " 9   DayOfYear_sin       9993 non-null   float64       \n",
            " 10  DayOfYear_cos       9993 non-null   float64       \n",
            " 11  Month_sin           9993 non-null   float64       \n",
            " 12  Month_cos           9993 non-null   float64       \n",
            " 13  Day_sin             9993 non-null   float64       \n",
            " 14  Day_cos             9993 non-null   float64       \n",
            " 15  DayOfWeek_sin       9993 non-null   float64       \n",
            " 16  DayOfWeek_cos       9993 non-null   float64       \n",
            " 17  SMA_5               9993 non-null   float64       \n",
            " 18  SMA_10              9993 non-null   float64       \n",
            " 19  SMA_20              9993 non-null   float64       \n",
            " 20  SMA_30              9993 non-null   float64       \n",
            " 21  RSI_14              9993 non-null   float64       \n",
            " 22  BB_High             9993 non-null   float64       \n",
            " 23  BB_Low              9993 non-null   float64       \n",
            " 24  BB_Middle           9993 non-null   float64       \n",
            " 25  BB_Width            9993 non-null   float64       \n",
            " 26  MACD                9993 non-null   float64       \n",
            " 27  MACD_Signal         9993 non-null   float64       \n",
            " 28  MACD_Diff           9993 non-null   float64       \n",
            " 29  Price Range         9993 non-null   float64       \n",
            " 30  Volatility_5        9993 non-null   float64       \n",
            " 31  Volatility_10       9993 non-null   float64       \n",
            " 32  Return_5            9993 non-null   float64       \n",
            " 33  Price Change        9993 non-null   float64       \n",
            " 34  Prev Close          9993 non-null   float64       \n",
            " 35  Target              9993 non-null   int64         \n",
            " 36  Close_lag1          9993 non-null   float64       \n",
            " 37  Close_lag2          9993 non-null   float64       \n",
            " 38  Close_lag3          9993 non-null   float64       \n",
            " 39  Close_lag5          9993 non-null   float64       \n",
            " 40  Return_5_lag1       9993 non-null   float64       \n",
            " 41  Return_5_lag2       9993 non-null   float64       \n",
            " 42  Return_5_lag3       9993 non-null   float64       \n",
            " 43  Return_5_lag5       9993 non-null   float64       \n",
            " 44  Volatility_5_lag1   9993 non-null   float64       \n",
            " 45  Volatility_5_lag2   9993 non-null   float64       \n",
            " 46  Volatility_5_lag3   9993 non-null   float64       \n",
            " 47  Volatility_5_lag5   9993 non-null   float64       \n",
            " 48  Volatility_10_lag1  9993 non-null   float64       \n",
            " 49  Volatility_10_lag2  9993 non-null   float64       \n",
            " 50  Volatility_10_lag3  9993 non-null   float64       \n",
            " 51  Volatility_10_lag5  9993 non-null   float64       \n",
            " 52  Price Change_lag1   9993 non-null   float64       \n",
            " 53  Price Change_lag2   9993 non-null   float64       \n",
            " 54  Price Change_lag3   9993 non-null   float64       \n",
            " 55  Price Change_lag5   9993 non-null   float64       \n",
            " 56  RSI_14_lag1         9993 non-null   float64       \n",
            " 57  RSI_14_lag2         9993 non-null   float64       \n",
            " 58  RSI_14_lag3         9993 non-null   float64       \n",
            " 59  RSI_14_lag5         9993 non-null   float64       \n",
            " 60  MACD_lag1           9993 non-null   float64       \n",
            " 61  MACD_lag2           9993 non-null   float64       \n",
            " 62  MACD_lag3           9993 non-null   float64       \n",
            " 63  MACD_lag5           9993 non-null   float64       \n",
            " 64  Weighted_Sentiment  9993 non-null   float64       \n",
            " 65  Mean_Sentiment      9993 non-null   float64       \n",
            " 66  Headline_Count      9993 non-null   float64       \n",
            " 67  Sentiment_Label     9993 non-null   object        \n",
            " 68  Has_Sentiment       9993 non-null   int64         \n",
            " 69  Stock_0             9993 non-null   int64         \n",
            " 70  Stock_1             9993 non-null   int64         \n",
            " 71  Stock_2             9993 non-null   int64         \n",
            " 72  Stock_3             9993 non-null   int64         \n",
            " 73  Stock_4             9993 non-null   int64         \n",
            "dtypes: datetime64[ns](1), float64(62), int64(10), object(1)\n",
            "memory usage: 5.6+ MB\n"
          ]
        }
      ],
      "source": [
        "balanced_train_df.info()"
      ]
    },
    {
      "cell_type": "code",
      "execution_count": 39,
      "metadata": {
        "id": "nzwTa78IbeRc"
      },
      "outputs": [],
      "source": [
        "balanced_train_df = balanced_train_df.sort_values(['Stock Type', 'Date']).reset_index(drop=True)\n",
        "val_df = val_df.sort_values(['Stock Type', 'Date']).reset_index(drop=True)\n",
        "test_df = test_df.sort_values(['Stock Type', 'Date']).reset_index(drop=True)\n"
      ]
    },
    {
      "cell_type": "code",
      "execution_count": 40,
      "metadata": {
        "id": "h52Shmf3bsi2"
      },
      "outputs": [],
      "source": [
        "def create_lstm_sequences(df, seq_len, feature_cols, target_col='Target', stock_col='Stock Type'):\n",
        "    X, y = [], []\n",
        "    for stock_id, group in df.groupby(stock_col):\n",
        "        group = group.sort_values('Date')\n",
        "        for i in range(seq_len, len(group)):\n",
        "            X.append(group[feature_cols].iloc[i - seq_len:i].values)\n",
        "            y.append(group[target_col].iloc[i])\n",
        "    return np.array(X), np.array(y)\n",
        "\n",
        "SEQ_LEN = 30\n",
        "\n",
        "X_train_lstm, y_train_lstm = create_lstm_sequences(balanced_train_df, SEQ_LEN, lstm_features)\n",
        "X_val_lstm, y_val_lstm = create_lstm_sequences(val_df, SEQ_LEN, lstm_features)\n",
        "X_test_lstm, y_test_lstm = create_lstm_sequences(test_df, SEQ_LEN, lstm_features)"
      ]
    },
    {
      "cell_type": "code",
      "execution_count": 41,
      "metadata": {
        "id": "KOckr1MaxsOv"
      },
      "outputs": [],
      "source": [
        "def extract_stock_ids(df, seq_len, stock_col='Stock Type'):\n",
        "    stock_ids = []\n",
        "    for _, group in df.groupby(stock_col):\n",
        "        group = group.sort_values('Date')\n",
        "        for i in range(seq_len, len(group)):\n",
        "            stock_ids.append(group[stock_col].iloc[i])\n",
        "    return np.array(stock_ids).reshape(-1, 1)\n",
        "\n",
        "stock_train_ids = extract_stock_ids(balanced_train_df, SEQ_LEN)\n",
        "stock_val_ids   = extract_stock_ids(val_df, SEQ_LEN)\n",
        "stock_test_ids  = extract_stock_ids(test_df, SEQ_LEN)\n"
      ]
    },
    {
      "cell_type": "code",
      "execution_count": 42,
      "metadata": {
        "id": "KCw8UhzjdRBx"
      },
      "outputs": [],
      "source": [
        "def create_xgb_inputs(df, seq_len, xgb_features, stock_col='Stock Type'):\n",
        "    xgb_inputs = []\n",
        "    for stock_id, group in df.groupby(stock_col):\n",
        "        group = group.sort_values('Date')\n",
        "        for i in range(seq_len, len(group)):\n",
        "            xgb_inputs.append(group[xgb_features].iloc[i].values)\n",
        "    return np.array(xgb_inputs)\n",
        "\n",
        "X_train_xgb = create_xgb_inputs(balanced_train_df, SEQ_LEN, xgb_features)\n",
        "X_val_xgb = create_xgb_inputs(val_df, SEQ_LEN, xgb_features)\n",
        "X_test_xgb = create_xgb_inputs(test_df, SEQ_LEN, xgb_features)"
      ]
    },
    {
      "cell_type": "code",
      "execution_count": 43,
      "metadata": {
        "id": "uXyYIJpfe1aB"
      },
      "outputs": [],
      "source": [
        "assert X_train_lstm.shape[0] == X_train_xgb.shape[0] == y_train_lstm.shape[0]\n",
        "assert X_val_lstm.shape[0] == X_val_xgb.shape[0] == y_val_lstm.shape[0]\n",
        "assert X_test_lstm.shape[0] == X_test_xgb.shape[0] == y_test_lstm.shape[0]"
      ]
    },
    {
      "cell_type": "code",
      "execution_count": 44,
      "metadata": {
        "colab": {
          "base_uri": "https://localhost:8080/"
        },
        "id": "tzP_7NHhf3Gd",
        "outputId": "d6bcb67a-ac0b-4e7d-abe9-172a0e8d0cdb"
      },
      "outputs": [
        {
          "name": "stdout",
          "output_type": "stream",
          "text": [
            "LSTM Input: (9843, 30, 19)\n",
            "XGB Input: (9843, 13)\n",
            "Target: (9843,)\n"
          ]
        }
      ],
      "source": [
        "print(\"LSTM Input:\", X_train_lstm.shape)\n",
        "print(\"XGB Input:\", X_train_xgb.shape)\n",
        "print(\"Target:\", y_train_lstm.shape)"
      ]
    },
    {
      "cell_type": "code",
      "execution_count": null,
      "metadata": {
        "colab": {
          "base_uri": "https://localhost:8080/"
        },
        "id": "XFg61vtGf4WD",
        "outputId": "ca798f2f-3faf-45d5-a06a-bf4338d47c38"
      },
      "outputs": [
        {
          "name": "stdout",
          "output_type": "stream",
          "text": [
            "Class distribution: {np.int64(0): np.int64(3277), np.int64(1): np.int64(3284), np.int64(2): np.int64(3282)}\n"
          ]
        }
      ],
      "source": [
        "unique, counts = np.unique(y_train_lstm, return_counts=True)\n",
        "print(\"Class distribution:\", dict(zip(unique, counts)))"
      ]
    },
    {
      "cell_type": "code",
      "execution_count": 47,
      "metadata": {
        "id": "a4uJLSp_6xP2"
      },
      "outputs": [],
      "source": [
        "X_seq_train = X_train_lstm\n",
        "X_seq_val = X_val_lstm\n",
        "X_seq_test = X_test_lstm\n",
        "\n",
        "X_stock_train = balanced_train_df['Stock Type'].values[-len(X_seq_train):]\n",
        "X_stock_val = val_df['Stock Type'].values[-len(X_seq_val):]\n",
        "X_stock_test = test_df['Stock Type'].values[-len(X_seq_test):]"
      ]
    },
    {
      "cell_type": "code",
      "execution_count": null,
      "metadata": {
        "colab": {
          "base_uri": "https://localhost:8080/"
        },
        "id": "XMxh81TF655Y",
        "outputId": "e73e5744-0f0e-4c08-8e31-31858bbe932e"
      },
      "outputs": [
        {
          "name": "stdout",
          "output_type": "stream",
          "text": [
            "Class Weights: {0: np.float64(1.0012206286237413), 1: np.float64(0.9990864799025578), 2: np.float64(0.9996953077391835)}\n"
          ]
        }
      ],
      "source": [
        "class_weights = dict(enumerate(class_weight.compute_class_weight(\n",
        "    class_weight='balanced',\n",
        "    classes=np.unique(y_train_lstm),\n",
        "    y=y_train_lstm\n",
        ")))\n",
        "\n",
        "print(\"Class Weights:\", class_weights)"
      ]
    },
    {
      "cell_type": "code",
      "execution_count": null,
      "metadata": {
        "id": "n9v_EL91NtWr"
      },
      "outputs": [],
      "source": [
        "def transformer_block(x, heads=4, key_dim=32):\n",
        "    attn_output = MultiHeadAttention(num_heads=heads, key_dim=key_dim)(x, x)\n",
        "    x = Add()([x, attn_output])\n",
        "    x = LayerNormalization()(x)\n",
        "    return x"
      ]
    },
    {
      "cell_type": "code",
      "execution_count": 50,
      "metadata": {
        "id": "hUAmc4aQxNT_"
      },
      "outputs": [],
      "source": [
        "def build_lstm(seq_len, n_lstm_features, num_stocks=5, embed_dim=3):\n",
        "    seq_input = Input(shape=(seq_len, n_lstm_features), name=\"seq_input\")\n",
        "    stock_input = Input(shape=(1,), dtype='int32', name=\"stock_input\")\n",
        "\n",
        "    stock_embed = Embedding(input_dim=num_stocks, output_dim=embed_dim)(stock_input)\n",
        "    stock_embed = Lambda(lambda x: tf.squeeze(x, axis=1))(stock_embed)\n",
        "    stock_embed = RepeatVector(seq_len)(stock_embed)\n",
        "    stock_embed = TimeDistributed(Dense(embed_dim))(stock_embed)\n",
        "\n",
        "    x = Concatenate(axis=-1)([seq_input, stock_embed])\n",
        "    x = Bidirectional(LSTM(128, return_sequences=True))(x)\n",
        "    x = BatchNormalization()(x)\n",
        "    x = Dropout(0.4)(x)\n",
        "    x = Bidirectional(LSTM(64, return_sequences=True))(x)\n",
        "    x = BatchNormalization()(x)\n",
        "\n",
        "    x = transformer_block(x)\n",
        "\n",
        "    avg_pool = GlobalAveragePooling1D()(x)\n",
        "    max_pool = GlobalMaxPooling1D()(x)\n",
        "    x = Concatenate()([avg_pool, max_pool])\n",
        "    x = Dense(128, activation='relu')(x)\n",
        "    x = BatchNormalization()(x)\n",
        "    x = Dropout(0.4)(x)\n",
        "    x = Dense(64, activation='relu', name=\"lstm_embedding\")(x)\n",
        "    x = Dropout(0.3)(x)\n",
        "    out = Dense(3, activation='softmax')(x)\n",
        "\n",
        "    return Model(inputs=[seq_input, stock_input], outputs=out)"
      ]
    },
    {
      "cell_type": "code",
      "execution_count": 51,
      "metadata": {
        "id": "1VHE-qO1mXhr"
      },
      "outputs": [],
      "source": [
        "def focal_loss(gamma=2., alpha = [1.2, 0.6, 1.4]):\n",
        "    alpha = tf.constant(alpha, dtype=tf.float32)\n",
        "\n",
        "    def loss(y_true, y_pred):\n",
        "        y_true = tf.one_hot(tf.cast(y_true, tf.int32), depth=3)\n",
        "        y_pred = tf.clip_by_value(y_pred, 1e-7, 1.0 - 1e-7)\n",
        "\n",
        "        cross_entropy = -y_true * tf.math.log(y_pred)\n",
        "        weight = alpha * tf.pow(1 - y_pred, gamma)\n",
        "        loss = weight * cross_entropy\n",
        "        return tf.reduce_mean(tf.reduce_sum(loss, axis=-1))\n",
        "    return loss"
      ]
    },
    {
      "cell_type": "code",
      "execution_count": 52,
      "metadata": {
        "id": "n5_FTQH8P-2p"
      },
      "outputs": [],
      "source": [
        "class_weights = {\n",
        "    0: 1.1,\n",
        "    1: 1.0,\n",
        "    2: 1.3\n",
        "}\n"
      ]
    },
    {
      "cell_type": "code",
      "execution_count": 53,
      "metadata": {
        "colab": {
          "base_uri": "https://localhost:8080/"
        },
        "id": "_yqdalW-7tQx",
        "outputId": "cb51323c-3862-40fd-84b8-d4d88b97320a"
      },
      "outputs": [
        {
          "name": "stdout",
          "output_type": "stream",
          "text": [
            "Epoch 1/30\n",
            "\u001b[1m154/154\u001b[0m \u001b[32m━━━━━━━━━━━━━━━━━━━━\u001b[0m\u001b[37m\u001b[0m \u001b[1m54s\u001b[0m 260ms/step - accuracy: 0.3431 - loss: 1.6148 - val_accuracy: 0.3638 - val_loss: 1.1220\n",
            "Epoch 2/30\n",
            "\u001b[1m154/154\u001b[0m \u001b[32m━━━━━━━━━━━━━━━━━━━━\u001b[0m\u001b[37m\u001b[0m \u001b[1m40s\u001b[0m 260ms/step - accuracy: 0.3387 - loss: 1.3492 - val_accuracy: 0.3448 - val_loss: 1.0932\n",
            "Epoch 3/30\n",
            "\u001b[1m154/154\u001b[0m \u001b[32m━━━━━━━━━━━━━━━━━━━━\u001b[0m\u001b[37m\u001b[0m \u001b[1m40s\u001b[0m 251ms/step - accuracy: 0.3493 - loss: 1.2817 - val_accuracy: 0.3783 - val_loss: 1.0872\n",
            "Epoch 4/30\n",
            "\u001b[1m154/154\u001b[0m \u001b[32m━━━━━━━━━━━━━━━━━━━━\u001b[0m\u001b[37m\u001b[0m \u001b[1m41s\u001b[0m 252ms/step - accuracy: 0.3442 - loss: 1.2584 - val_accuracy: 0.3339 - val_loss: 1.0887\n",
            "Epoch 5/30\n",
            "\u001b[1m154/154\u001b[0m \u001b[32m━━━━━━━━━━━━━━━━━━━━\u001b[0m\u001b[37m\u001b[0m \u001b[1m40s\u001b[0m 246ms/step - accuracy: 0.3439 - loss: 1.2529 - val_accuracy: 0.3629 - val_loss: 1.0908\n",
            "Epoch 6/30\n",
            "\u001b[1m154/154\u001b[0m \u001b[32m━━━━━━━━━━━━━━━━━━━━\u001b[0m\u001b[37m\u001b[0m \u001b[1m42s\u001b[0m 252ms/step - accuracy: 0.3448 - loss: 1.2450 - val_accuracy: 0.3629 - val_loss: 1.0904\n",
            "Epoch 7/30\n",
            "\u001b[1m154/154\u001b[0m \u001b[32m━━━━━━━━━━━━━━━━━━━━\u001b[0m\u001b[37m\u001b[0m \u001b[1m41s\u001b[0m 249ms/step - accuracy: 0.3313 - loss: 1.2441 - val_accuracy: 0.3991 - val_loss: 1.0880\n",
            "Epoch 8/30\n",
            "\u001b[1m154/154\u001b[0m \u001b[32m━━━━━━━━━━━━━━━━━━━━\u001b[0m\u001b[37m\u001b[0m \u001b[1m39s\u001b[0m 251ms/step - accuracy: 0.3336 - loss: 1.2443 - val_accuracy: 0.3566 - val_loss: 1.0980\n"
          ]
        },
        {
          "data": {
            "text/plain": [
              "<keras.src.callbacks.history.History at 0x7d1396aa6d10>"
            ]
          },
          "execution_count": 53,
          "metadata": {},
          "output_type": "execute_result"
        }
      ],
      "source": [
        "loss = tf.keras.losses.SparseCategoricalCrossentropy()\n",
        "# loss = focal_loss(gamma=2., alpha=[1.4, 0.7, 1.6])\n",
        "\n",
        "lstm_model = build_lstm(SEQ_LEN, X_seq_train.shape[2], num_stocks=5, embed_dim=3)\n",
        "lstm_model.compile(optimizer=Adam(1e-3), loss=loss, metrics=['accuracy'])\n",
        "lstm_model.fit([X_seq_train, X_stock_train], y_train_lstm,\n",
        "               validation_data=([X_seq_val, X_stock_val], y_val_lstm),\n",
        "               epochs=30, batch_size=64, class_weight=class_weights,\n",
        "               callbacks=[tf.keras.callbacks.EarlyStopping(patience=5, restore_best_weights=True)])"
      ]
    },
    {
      "cell_type": "code",
      "execution_count": 54,
      "metadata": {
        "colab": {
          "base_uri": "https://localhost:8080/"
        },
        "id": "f5itWwfRxbGX",
        "outputId": "9f9e6dc6-afe8-42ef-83a7-994e964bd784"
      },
      "outputs": [
        {
          "name": "stdout",
          "output_type": "stream",
          "text": [
            "\u001b[1m308/308\u001b[0m \u001b[32m━━━━━━━━━━━━━━━━━━━━\u001b[0m\u001b[37m\u001b[0m \u001b[1m17s\u001b[0m 51ms/step\n",
            "\u001b[1m35/35\u001b[0m \u001b[32m━━━━━━━━━━━━━━━━━━━━\u001b[0m\u001b[37m\u001b[0m \u001b[1m1s\u001b[0m 42ms/step\n",
            "\u001b[1m74/74\u001b[0m \u001b[32m━━━━━━━━━━━━━━━━━━━━\u001b[0m\u001b[37m\u001b[0m \u001b[1m3s\u001b[0m 43ms/step\n"
          ]
        }
      ],
      "source": [
        "encoder_model = Model(inputs=lstm_model.input, outputs=lstm_model.get_layer(\"lstm_embedding\").output)\n",
        "X_train_lstm_encoded = encoder_model.predict([X_seq_train, X_stock_train])\n",
        "X_val_lstm_encoded   = encoder_model.predict([X_seq_val, X_stock_val])\n",
        "X_test_lstm_encoded  = encoder_model.predict([X_seq_test, X_stock_test])"
      ]
    },
    {
      "cell_type": "code",
      "execution_count": 55,
      "metadata": {
        "id": "LouqxzMjztN-"
      },
      "outputs": [],
      "source": [
        "# lstm_encoder.save(\"supervised_lstm_encoder.keras\")"
      ]
    },
    {
      "cell_type": "code",
      "execution_count": 56,
      "metadata": {
        "id": "Gd3Z5Wf_hSfq"
      },
      "outputs": [],
      "source": [
        "X_train_fused = np.concatenate([X_train_lstm_encoded, X_train_xgb], axis=1)\n",
        "X_val_fused   = np.concatenate([X_val_lstm_encoded, X_val_xgb], axis=1)\n",
        "X_test_fused  = np.concatenate([X_test_lstm_encoded, X_test_xgb], axis=1)"
      ]
    },
    {
      "cell_type": "code",
      "execution_count": null,
      "metadata": {
        "colab": {
          "base_uri": "https://localhost:8080/"
        },
        "id": "S2vUi_zKAXEs",
        "outputId": "fd3ef97d-7ed9-44e4-abb0-90a339d77a80"
      },
      "outputs": [
        {
          "name": "stdout",
          "output_type": "stream",
          "text": [
            "\u001b[1m74/74\u001b[0m \u001b[32m━━━━━━━━━━━━━━━━━━━━\u001b[0m\u001b[37m\u001b[0m \u001b[1m6s\u001b[0m 58ms/step\n",
            "Test Accuracy: 0.5313559322033898\n",
            "              precision    recall  f1-score   support\n",
            "\n",
            "           0       0.34      0.12      0.18       522\n",
            "           1       0.55      0.95      0.70      1227\n",
            "           2       0.36      0.04      0.08       611\n",
            "\n",
            "    accuracy                           0.53      2360\n",
            "   macro avg       0.42      0.37      0.32      2360\n",
            "weighted avg       0.46      0.53      0.42      2360\n",
            "\n"
          ]
        }
      ],
      "source": [
        "\n",
        "y_pred_lstm = lstm_model.predict([X_seq_test, X_stock_test])\n",
        "y_pred_labels = np.argmax(y_pred_lstm, axis=1)\n",
        "\n",
        "print(\"Test Accuracy:\", accuracy_score(y_test_lstm, y_pred_labels))\n",
        "print(classification_report(y_test_lstm, y_pred_labels))"
      ]
    },
    {
      "cell_type": "code",
      "execution_count": null,
      "metadata": {
        "colab": {
          "base_uri": "https://localhost:8080/",
          "height": 1000
        },
        "id": "oOt7Qkc9hp_O",
        "outputId": "f3031cb6-6ad1-407b-aa33-7aab1f2c8530"
      },
      "outputs": [
        {
          "name": "stdout",
          "output_type": "stream",
          "text": [
            "[0]\tvalidation_0-mlogloss:1.09744\n"
          ]
        },
        {
          "name": "stderr",
          "output_type": "stream",
          "text": [
            "/usr/local/lib/python3.11/dist-packages/xgboost/core.py:158: UserWarning: [14:39:36] WARNING: /workspace/src/learner.cc:740: \n",
            "Parameters: { \"use_label_encoder\" } are not used.\n",
            "\n",
            "  warnings.warn(smsg, UserWarning)\n"
          ]
        },
        {
          "name": "stdout",
          "output_type": "stream",
          "text": [
            "[1]\tvalidation_0-mlogloss:1.09695\n",
            "[2]\tvalidation_0-mlogloss:1.09583\n",
            "[3]\tvalidation_0-mlogloss:1.09488\n",
            "[4]\tvalidation_0-mlogloss:1.09423\n",
            "[5]\tvalidation_0-mlogloss:1.09374\n",
            "[6]\tvalidation_0-mlogloss:1.09303\n",
            "[7]\tvalidation_0-mlogloss:1.09301\n",
            "[8]\tvalidation_0-mlogloss:1.09182\n",
            "[9]\tvalidation_0-mlogloss:1.09126\n",
            "[10]\tvalidation_0-mlogloss:1.09114\n",
            "[11]\tvalidation_0-mlogloss:1.09068\n",
            "[12]\tvalidation_0-mlogloss:1.09007\n",
            "[13]\tvalidation_0-mlogloss:1.09007\n",
            "[14]\tvalidation_0-mlogloss:1.09043\n",
            "[15]\tvalidation_0-mlogloss:1.08975\n",
            "[16]\tvalidation_0-mlogloss:1.08912\n",
            "[17]\tvalidation_0-mlogloss:1.08880\n",
            "[18]\tvalidation_0-mlogloss:1.08843\n",
            "[19]\tvalidation_0-mlogloss:1.08795\n",
            "[20]\tvalidation_0-mlogloss:1.08735\n",
            "[21]\tvalidation_0-mlogloss:1.08729\n",
            "[22]\tvalidation_0-mlogloss:1.08715\n",
            "[23]\tvalidation_0-mlogloss:1.08692\n",
            "[24]\tvalidation_0-mlogloss:1.08674\n",
            "[25]\tvalidation_0-mlogloss:1.08698\n",
            "[26]\tvalidation_0-mlogloss:1.08685\n",
            "[27]\tvalidation_0-mlogloss:1.08666\n",
            "[28]\tvalidation_0-mlogloss:1.08665\n",
            "[29]\tvalidation_0-mlogloss:1.08677\n",
            "[30]\tvalidation_0-mlogloss:1.08639\n",
            "[31]\tvalidation_0-mlogloss:1.08676\n",
            "[32]\tvalidation_0-mlogloss:1.08642\n",
            "[33]\tvalidation_0-mlogloss:1.08570\n",
            "[34]\tvalidation_0-mlogloss:1.08558\n",
            "[35]\tvalidation_0-mlogloss:1.08573\n",
            "[36]\tvalidation_0-mlogloss:1.08527\n",
            "[37]\tvalidation_0-mlogloss:1.08554\n",
            "[38]\tvalidation_0-mlogloss:1.08541\n",
            "[39]\tvalidation_0-mlogloss:1.08530\n",
            "[40]\tvalidation_0-mlogloss:1.08457\n",
            "[41]\tvalidation_0-mlogloss:1.08457\n",
            "[42]\tvalidation_0-mlogloss:1.08480\n",
            "[43]\tvalidation_0-mlogloss:1.08475\n",
            "[44]\tvalidation_0-mlogloss:1.08495\n",
            "[45]\tvalidation_0-mlogloss:1.08524\n",
            "[46]\tvalidation_0-mlogloss:1.08548\n",
            "[47]\tvalidation_0-mlogloss:1.08546\n",
            "[48]\tvalidation_0-mlogloss:1.08528\n",
            "[49]\tvalidation_0-mlogloss:1.08512\n",
            "[50]\tvalidation_0-mlogloss:1.08526\n",
            "[51]\tvalidation_0-mlogloss:1.08550\n",
            "[52]\tvalidation_0-mlogloss:1.08589\n",
            "[53]\tvalidation_0-mlogloss:1.08545\n",
            "[54]\tvalidation_0-mlogloss:1.08544\n",
            "[55]\tvalidation_0-mlogloss:1.08521\n",
            "[56]\tvalidation_0-mlogloss:1.08543\n"
          ]
        },
        {
          "data": {
            "text/html": [
              "<style>#sk-container-id-1 {\n",
              "  /* Definition of color scheme common for light and dark mode */\n",
              "  --sklearn-color-text: #000;\n",
              "  --sklearn-color-text-muted: #666;\n",
              "  --sklearn-color-line: gray;\n",
              "  /* Definition of color scheme for unfitted estimators */\n",
              "  --sklearn-color-unfitted-level-0: #fff5e6;\n",
              "  --sklearn-color-unfitted-level-1: #f6e4d2;\n",
              "  --sklearn-color-unfitted-level-2: #ffe0b3;\n",
              "  --sklearn-color-unfitted-level-3: chocolate;\n",
              "  /* Definition of color scheme for fitted estimators */\n",
              "  --sklearn-color-fitted-level-0: #f0f8ff;\n",
              "  --sklearn-color-fitted-level-1: #d4ebff;\n",
              "  --sklearn-color-fitted-level-2: #b3dbfd;\n",
              "  --sklearn-color-fitted-level-3: cornflowerblue;\n",
              "\n",
              "  /* Specific color for light theme */\n",
              "  --sklearn-color-text-on-default-background: var(--sg-text-color, var(--theme-code-foreground, var(--jp-content-font-color1, black)));\n",
              "  --sklearn-color-background: var(--sg-background-color, var(--theme-background, var(--jp-layout-color0, white)));\n",
              "  --sklearn-color-border-box: var(--sg-text-color, var(--theme-code-foreground, var(--jp-content-font-color1, black)));\n",
              "  --sklearn-color-icon: #696969;\n",
              "\n",
              "  @media (prefers-color-scheme: dark) {\n",
              "    /* Redefinition of color scheme for dark theme */\n",
              "    --sklearn-color-text-on-default-background: var(--sg-text-color, var(--theme-code-foreground, var(--jp-content-font-color1, white)));\n",
              "    --sklearn-color-background: var(--sg-background-color, var(--theme-background, var(--jp-layout-color0, #111)));\n",
              "    --sklearn-color-border-box: var(--sg-text-color, var(--theme-code-foreground, var(--jp-content-font-color1, white)));\n",
              "    --sklearn-color-icon: #878787;\n",
              "  }\n",
              "}\n",
              "\n",
              "#sk-container-id-1 {\n",
              "  color: var(--sklearn-color-text);\n",
              "}\n",
              "\n",
              "#sk-container-id-1 pre {\n",
              "  padding: 0;\n",
              "}\n",
              "\n",
              "#sk-container-id-1 input.sk-hidden--visually {\n",
              "  border: 0;\n",
              "  clip: rect(1px 1px 1px 1px);\n",
              "  clip: rect(1px, 1px, 1px, 1px);\n",
              "  height: 1px;\n",
              "  margin: -1px;\n",
              "  overflow: hidden;\n",
              "  padding: 0;\n",
              "  position: absolute;\n",
              "  width: 1px;\n",
              "}\n",
              "\n",
              "#sk-container-id-1 div.sk-dashed-wrapped {\n",
              "  border: 1px dashed var(--sklearn-color-line);\n",
              "  margin: 0 0.4em 0.5em 0.4em;\n",
              "  box-sizing: border-box;\n",
              "  padding-bottom: 0.4em;\n",
              "  background-color: var(--sklearn-color-background);\n",
              "}\n",
              "\n",
              "#sk-container-id-1 div.sk-container {\n",
              "  /* jupyter's `normalize.less` sets `[hidden] { display: none; }`\n",
              "     but bootstrap.min.css set `[hidden] { display: none !important; }`\n",
              "     so we also need the `!important` here to be able to override the\n",
              "     default hidden behavior on the sphinx rendered scikit-learn.org.\n",
              "     See: https://github.com/scikit-learn/scikit-learn/issues/21755 */\n",
              "  display: inline-block !important;\n",
              "  position: relative;\n",
              "}\n",
              "\n",
              "#sk-container-id-1 div.sk-text-repr-fallback {\n",
              "  display: none;\n",
              "}\n",
              "\n",
              "div.sk-parallel-item,\n",
              "div.sk-serial,\n",
              "div.sk-item {\n",
              "  /* draw centered vertical line to link estimators */\n",
              "  background-image: linear-gradient(var(--sklearn-color-text-on-default-background), var(--sklearn-color-text-on-default-background));\n",
              "  background-size: 2px 100%;\n",
              "  background-repeat: no-repeat;\n",
              "  background-position: center center;\n",
              "}\n",
              "\n",
              "/* Parallel-specific style estimator block */\n",
              "\n",
              "#sk-container-id-1 div.sk-parallel-item::after {\n",
              "  content: \"\";\n",
              "  width: 100%;\n",
              "  border-bottom: 2px solid var(--sklearn-color-text-on-default-background);\n",
              "  flex-grow: 1;\n",
              "}\n",
              "\n",
              "#sk-container-id-1 div.sk-parallel {\n",
              "  display: flex;\n",
              "  align-items: stretch;\n",
              "  justify-content: center;\n",
              "  background-color: var(--sklearn-color-background);\n",
              "  position: relative;\n",
              "}\n",
              "\n",
              "#sk-container-id-1 div.sk-parallel-item {\n",
              "  display: flex;\n",
              "  flex-direction: column;\n",
              "}\n",
              "\n",
              "#sk-container-id-1 div.sk-parallel-item:first-child::after {\n",
              "  align-self: flex-end;\n",
              "  width: 50%;\n",
              "}\n",
              "\n",
              "#sk-container-id-1 div.sk-parallel-item:last-child::after {\n",
              "  align-self: flex-start;\n",
              "  width: 50%;\n",
              "}\n",
              "\n",
              "#sk-container-id-1 div.sk-parallel-item:only-child::after {\n",
              "  width: 0;\n",
              "}\n",
              "\n",
              "/* Serial-specific style estimator block */\n",
              "\n",
              "#sk-container-id-1 div.sk-serial {\n",
              "  display: flex;\n",
              "  flex-direction: column;\n",
              "  align-items: center;\n",
              "  background-color: var(--sklearn-color-background);\n",
              "  padding-right: 1em;\n",
              "  padding-left: 1em;\n",
              "}\n",
              "\n",
              "\n",
              "/* Toggleable style: style used for estimator/Pipeline/ColumnTransformer box that is\n",
              "clickable and can be expanded/collapsed.\n",
              "- Pipeline and ColumnTransformer use this feature and define the default style\n",
              "- Estimators will overwrite some part of the style using the `sk-estimator` class\n",
              "*/\n",
              "\n",
              "/* Pipeline and ColumnTransformer style (default) */\n",
              "\n",
              "#sk-container-id-1 div.sk-toggleable {\n",
              "  /* Default theme specific background. It is overwritten whether we have a\n",
              "  specific estimator or a Pipeline/ColumnTransformer */\n",
              "  background-color: var(--sklearn-color-background);\n",
              "}\n",
              "\n",
              "/* Toggleable label */\n",
              "#sk-container-id-1 label.sk-toggleable__label {\n",
              "  cursor: pointer;\n",
              "  display: flex;\n",
              "  width: 100%;\n",
              "  margin-bottom: 0;\n",
              "  padding: 0.5em;\n",
              "  box-sizing: border-box;\n",
              "  text-align: center;\n",
              "  align-items: start;\n",
              "  justify-content: space-between;\n",
              "  gap: 0.5em;\n",
              "}\n",
              "\n",
              "#sk-container-id-1 label.sk-toggleable__label .caption {\n",
              "  font-size: 0.6rem;\n",
              "  font-weight: lighter;\n",
              "  color: var(--sklearn-color-text-muted);\n",
              "}\n",
              "\n",
              "#sk-container-id-1 label.sk-toggleable__label-arrow:before {\n",
              "  /* Arrow on the left of the label */\n",
              "  content: \"▸\";\n",
              "  float: left;\n",
              "  margin-right: 0.25em;\n",
              "  color: var(--sklearn-color-icon);\n",
              "}\n",
              "\n",
              "#sk-container-id-1 label.sk-toggleable__label-arrow:hover:before {\n",
              "  color: var(--sklearn-color-text);\n",
              "}\n",
              "\n",
              "/* Toggleable content - dropdown */\n",
              "\n",
              "#sk-container-id-1 div.sk-toggleable__content {\n",
              "  max-height: 0;\n",
              "  max-width: 0;\n",
              "  overflow: hidden;\n",
              "  text-align: left;\n",
              "  /* unfitted */\n",
              "  background-color: var(--sklearn-color-unfitted-level-0);\n",
              "}\n",
              "\n",
              "#sk-container-id-1 div.sk-toggleable__content.fitted {\n",
              "  /* fitted */\n",
              "  background-color: var(--sklearn-color-fitted-level-0);\n",
              "}\n",
              "\n",
              "#sk-container-id-1 div.sk-toggleable__content pre {\n",
              "  margin: 0.2em;\n",
              "  border-radius: 0.25em;\n",
              "  color: var(--sklearn-color-text);\n",
              "  /* unfitted */\n",
              "  background-color: var(--sklearn-color-unfitted-level-0);\n",
              "}\n",
              "\n",
              "#sk-container-id-1 div.sk-toggleable__content.fitted pre {\n",
              "  /* unfitted */\n",
              "  background-color: var(--sklearn-color-fitted-level-0);\n",
              "}\n",
              "\n",
              "#sk-container-id-1 input.sk-toggleable__control:checked~div.sk-toggleable__content {\n",
              "  /* Expand drop-down */\n",
              "  max-height: 200px;\n",
              "  max-width: 100%;\n",
              "  overflow: auto;\n",
              "}\n",
              "\n",
              "#sk-container-id-1 input.sk-toggleable__control:checked~label.sk-toggleable__label-arrow:before {\n",
              "  content: \"▾\";\n",
              "}\n",
              "\n",
              "/* Pipeline/ColumnTransformer-specific style */\n",
              "\n",
              "#sk-container-id-1 div.sk-label input.sk-toggleable__control:checked~label.sk-toggleable__label {\n",
              "  color: var(--sklearn-color-text);\n",
              "  background-color: var(--sklearn-color-unfitted-level-2);\n",
              "}\n",
              "\n",
              "#sk-container-id-1 div.sk-label.fitted input.sk-toggleable__control:checked~label.sk-toggleable__label {\n",
              "  background-color: var(--sklearn-color-fitted-level-2);\n",
              "}\n",
              "\n",
              "/* Estimator-specific style */\n",
              "\n",
              "/* Colorize estimator box */\n",
              "#sk-container-id-1 div.sk-estimator input.sk-toggleable__control:checked~label.sk-toggleable__label {\n",
              "  /* unfitted */\n",
              "  background-color: var(--sklearn-color-unfitted-level-2);\n",
              "}\n",
              "\n",
              "#sk-container-id-1 div.sk-estimator.fitted input.sk-toggleable__control:checked~label.sk-toggleable__label {\n",
              "  /* fitted */\n",
              "  background-color: var(--sklearn-color-fitted-level-2);\n",
              "}\n",
              "\n",
              "#sk-container-id-1 div.sk-label label.sk-toggleable__label,\n",
              "#sk-container-id-1 div.sk-label label {\n",
              "  /* The background is the default theme color */\n",
              "  color: var(--sklearn-color-text-on-default-background);\n",
              "}\n",
              "\n",
              "/* On hover, darken the color of the background */\n",
              "#sk-container-id-1 div.sk-label:hover label.sk-toggleable__label {\n",
              "  color: var(--sklearn-color-text);\n",
              "  background-color: var(--sklearn-color-unfitted-level-2);\n",
              "}\n",
              "\n",
              "/* Label box, darken color on hover, fitted */\n",
              "#sk-container-id-1 div.sk-label.fitted:hover label.sk-toggleable__label.fitted {\n",
              "  color: var(--sklearn-color-text);\n",
              "  background-color: var(--sklearn-color-fitted-level-2);\n",
              "}\n",
              "\n",
              "/* Estimator label */\n",
              "\n",
              "#sk-container-id-1 div.sk-label label {\n",
              "  font-family: monospace;\n",
              "  font-weight: bold;\n",
              "  display: inline-block;\n",
              "  line-height: 1.2em;\n",
              "}\n",
              "\n",
              "#sk-container-id-1 div.sk-label-container {\n",
              "  text-align: center;\n",
              "}\n",
              "\n",
              "/* Estimator-specific */\n",
              "#sk-container-id-1 div.sk-estimator {\n",
              "  font-family: monospace;\n",
              "  border: 1px dotted var(--sklearn-color-border-box);\n",
              "  border-radius: 0.25em;\n",
              "  box-sizing: border-box;\n",
              "  margin-bottom: 0.5em;\n",
              "  /* unfitted */\n",
              "  background-color: var(--sklearn-color-unfitted-level-0);\n",
              "}\n",
              "\n",
              "#sk-container-id-1 div.sk-estimator.fitted {\n",
              "  /* fitted */\n",
              "  background-color: var(--sklearn-color-fitted-level-0);\n",
              "}\n",
              "\n",
              "/* on hover */\n",
              "#sk-container-id-1 div.sk-estimator:hover {\n",
              "  /* unfitted */\n",
              "  background-color: var(--sklearn-color-unfitted-level-2);\n",
              "}\n",
              "\n",
              "#sk-container-id-1 div.sk-estimator.fitted:hover {\n",
              "  /* fitted */\n",
              "  background-color: var(--sklearn-color-fitted-level-2);\n",
              "}\n",
              "\n",
              "/* Specification for estimator info (e.g. \"i\" and \"?\") */\n",
              "\n",
              "/* Common style for \"i\" and \"?\" */\n",
              "\n",
              ".sk-estimator-doc-link,\n",
              "a:link.sk-estimator-doc-link,\n",
              "a:visited.sk-estimator-doc-link {\n",
              "  float: right;\n",
              "  font-size: smaller;\n",
              "  line-height: 1em;\n",
              "  font-family: monospace;\n",
              "  background-color: var(--sklearn-color-background);\n",
              "  border-radius: 1em;\n",
              "  height: 1em;\n",
              "  width: 1em;\n",
              "  text-decoration: none !important;\n",
              "  margin-left: 0.5em;\n",
              "  text-align: center;\n",
              "  /* unfitted */\n",
              "  border: var(--sklearn-color-unfitted-level-1) 1pt solid;\n",
              "  color: var(--sklearn-color-unfitted-level-1);\n",
              "}\n",
              "\n",
              ".sk-estimator-doc-link.fitted,\n",
              "a:link.sk-estimator-doc-link.fitted,\n",
              "a:visited.sk-estimator-doc-link.fitted {\n",
              "  /* fitted */\n",
              "  border: var(--sklearn-color-fitted-level-1) 1pt solid;\n",
              "  color: var(--sklearn-color-fitted-level-1);\n",
              "}\n",
              "\n",
              "/* On hover */\n",
              "div.sk-estimator:hover .sk-estimator-doc-link:hover,\n",
              ".sk-estimator-doc-link:hover,\n",
              "div.sk-label-container:hover .sk-estimator-doc-link:hover,\n",
              ".sk-estimator-doc-link:hover {\n",
              "  /* unfitted */\n",
              "  background-color: var(--sklearn-color-unfitted-level-3);\n",
              "  color: var(--sklearn-color-background);\n",
              "  text-decoration: none;\n",
              "}\n",
              "\n",
              "div.sk-estimator.fitted:hover .sk-estimator-doc-link.fitted:hover,\n",
              ".sk-estimator-doc-link.fitted:hover,\n",
              "div.sk-label-container:hover .sk-estimator-doc-link.fitted:hover,\n",
              ".sk-estimator-doc-link.fitted:hover {\n",
              "  /* fitted */\n",
              "  background-color: var(--sklearn-color-fitted-level-3);\n",
              "  color: var(--sklearn-color-background);\n",
              "  text-decoration: none;\n",
              "}\n",
              "\n",
              "/* Span, style for the box shown on hovering the info icon */\n",
              ".sk-estimator-doc-link span {\n",
              "  display: none;\n",
              "  z-index: 9999;\n",
              "  position: relative;\n",
              "  font-weight: normal;\n",
              "  right: .2ex;\n",
              "  padding: .5ex;\n",
              "  margin: .5ex;\n",
              "  width: min-content;\n",
              "  min-width: 20ex;\n",
              "  max-width: 50ex;\n",
              "  color: var(--sklearn-color-text);\n",
              "  box-shadow: 2pt 2pt 4pt #999;\n",
              "  /* unfitted */\n",
              "  background: var(--sklearn-color-unfitted-level-0);\n",
              "  border: .5pt solid var(--sklearn-color-unfitted-level-3);\n",
              "}\n",
              "\n",
              ".sk-estimator-doc-link.fitted span {\n",
              "  /* fitted */\n",
              "  background: var(--sklearn-color-fitted-level-0);\n",
              "  border: var(--sklearn-color-fitted-level-3);\n",
              "}\n",
              "\n",
              ".sk-estimator-doc-link:hover span {\n",
              "  display: block;\n",
              "}\n",
              "\n",
              "/* \"?\"-specific style due to the `<a>` HTML tag */\n",
              "\n",
              "#sk-container-id-1 a.estimator_doc_link {\n",
              "  float: right;\n",
              "  font-size: 1rem;\n",
              "  line-height: 1em;\n",
              "  font-family: monospace;\n",
              "  background-color: var(--sklearn-color-background);\n",
              "  border-radius: 1rem;\n",
              "  height: 1rem;\n",
              "  width: 1rem;\n",
              "  text-decoration: none;\n",
              "  /* unfitted */\n",
              "  color: var(--sklearn-color-unfitted-level-1);\n",
              "  border: var(--sklearn-color-unfitted-level-1) 1pt solid;\n",
              "}\n",
              "\n",
              "#sk-container-id-1 a.estimator_doc_link.fitted {\n",
              "  /* fitted */\n",
              "  border: var(--sklearn-color-fitted-level-1) 1pt solid;\n",
              "  color: var(--sklearn-color-fitted-level-1);\n",
              "}\n",
              "\n",
              "/* On hover */\n",
              "#sk-container-id-1 a.estimator_doc_link:hover {\n",
              "  /* unfitted */\n",
              "  background-color: var(--sklearn-color-unfitted-level-3);\n",
              "  color: var(--sklearn-color-background);\n",
              "  text-decoration: none;\n",
              "}\n",
              "\n",
              "#sk-container-id-1 a.estimator_doc_link.fitted:hover {\n",
              "  /* fitted */\n",
              "  background-color: var(--sklearn-color-fitted-level-3);\n",
              "}\n",
              "</style><div id=\"sk-container-id-1\" class=\"sk-top-container\"><div class=\"sk-text-repr-fallback\"><pre>XGBClassifier(base_score=None, booster=None, callbacks=None,\n",
              "              colsample_bylevel=None, colsample_bynode=None,\n",
              "              colsample_bytree=0.9, device=None, early_stopping_rounds=15,\n",
              "              enable_categorical=False, eval_metric=&#x27;mlogloss&#x27;,\n",
              "              feature_types=None, gamma=None, grow_policy=None,\n",
              "              importance_type=None, interaction_constraints=None,\n",
              "              learning_rate=0.03, max_bin=None, max_cat_threshold=None,\n",
              "              max_cat_to_onehot=None, max_delta_step=None, max_depth=8,\n",
              "              max_leaves=None, min_child_weight=3, missing=nan,\n",
              "              monotone_constraints=None, multi_strategy=None, n_estimators=400,\n",
              "              n_jobs=None, num_class=3, num_parallel_tree=None, ...)</pre><b>In a Jupyter environment, please rerun this cell to show the HTML representation or trust the notebook. <br />On GitHub, the HTML representation is unable to render, please try loading this page with nbviewer.org.</b></div><div class=\"sk-container\" hidden><div class=\"sk-item\"><div class=\"sk-estimator fitted sk-toggleable\"><input class=\"sk-toggleable__control sk-hidden--visually\" id=\"sk-estimator-id-1\" type=\"checkbox\" checked><label for=\"sk-estimator-id-1\" class=\"sk-toggleable__label fitted sk-toggleable__label-arrow\"><div><div>XGBClassifier</div></div><div><span class=\"sk-estimator-doc-link fitted\">i<span>Fitted</span></span></div></label><div class=\"sk-toggleable__content fitted\"><pre>XGBClassifier(base_score=None, booster=None, callbacks=None,\n",
              "              colsample_bylevel=None, colsample_bynode=None,\n",
              "              colsample_bytree=0.9, device=None, early_stopping_rounds=15,\n",
              "              enable_categorical=False, eval_metric=&#x27;mlogloss&#x27;,\n",
              "              feature_types=None, gamma=None, grow_policy=None,\n",
              "              importance_type=None, interaction_constraints=None,\n",
              "              learning_rate=0.03, max_bin=None, max_cat_threshold=None,\n",
              "              max_cat_to_onehot=None, max_delta_step=None, max_depth=8,\n",
              "              max_leaves=None, min_child_weight=3, missing=nan,\n",
              "              monotone_constraints=None, multi_strategy=None, n_estimators=400,\n",
              "              n_jobs=None, num_class=3, num_parallel_tree=None, ...)</pre></div> </div></div></div></div>"
            ],
            "text/plain": [
              "XGBClassifier(base_score=None, booster=None, callbacks=None,\n",
              "              colsample_bylevel=None, colsample_bynode=None,\n",
              "              colsample_bytree=0.9, device=None, early_stopping_rounds=15,\n",
              "              enable_categorical=False, eval_metric='mlogloss',\n",
              "              feature_types=None, gamma=None, grow_policy=None,\n",
              "              importance_type=None, interaction_constraints=None,\n",
              "              learning_rate=0.03, max_bin=None, max_cat_threshold=None,\n",
              "              max_cat_to_onehot=None, max_delta_step=None, max_depth=8,\n",
              "              max_leaves=None, min_child_weight=3, missing=nan,\n",
              "              monotone_constraints=None, multi_strategy=None, n_estimators=400,\n",
              "              n_jobs=None, num_class=3, num_parallel_tree=None, ...)"
            ]
          },
          "execution_count": 58,
          "metadata": {},
          "output_type": "execute_result"
        }
      ],
      "source": [
        "xgb_model = xgb.XGBClassifier(\n",
        "    objective='multi:softprob',\n",
        "    num_class=3,\n",
        "    eval_metric='mlogloss',\n",
        "    use_label_encoder=False,\n",
        "    n_estimators=400,\n",
        "    max_depth=8,\n",
        "    learning_rate=0.03,\n",
        "    subsample=0.9,\n",
        "    colsample_bytree=0.9,\n",
        "    # scale_pos_weight=class_weights[0] / class_weights[1],\n",
        "    min_child_weight=3,\n",
        "    # class_weight='balanced',\n",
        "    early_stopping_rounds=15,\n",
        "    random_state=SEED\n",
        ")\n",
        "\n",
        "xgb_model.fit(X_train_fused, y_train_lstm, eval_set=[(X_val_fused, y_val_lstm)], verbose=True)\n"
      ]
    },
    {
      "cell_type": "code",
      "execution_count": 59,
      "metadata": {
        "colab": {
          "base_uri": "https://localhost:8080/"
        },
        "id": "oavdAcASht4E",
        "outputId": "c083d163-4665-48fd-f2a4-821cb1602844"
      },
      "outputs": [
        {
          "name": "stdout",
          "output_type": "stream",
          "text": [
            "\n",
            "Test Accuracy: 0.451271186440678\n",
            "              precision    recall  f1-score   support\n",
            "\n",
            "           0       0.28      0.34      0.31       522\n",
            "           1       0.61      0.59      0.60      1227\n",
            "           2       0.31      0.27      0.29       611\n",
            "\n",
            "    accuracy                           0.45      2360\n",
            "   macro avg       0.40      0.40      0.40      2360\n",
            "weighted avg       0.46      0.45      0.45      2360\n",
            "\n"
          ]
        }
      ],
      "source": [
        "y_probs_xgb = xgb_model.predict_proba(X_test_fused)\n",
        "y_pred = np.argmax(y_probs_xgb, axis=1)\n",
        "print(\"\\nTest Accuracy:\", accuracy_score(y_test_lstm, y_pred))\n",
        "print(classification_report(y_test_lstm, y_pred))"
      ]
    },
    {
      "cell_type": "code",
      "execution_count": null,
      "metadata": {
        "id": "aMuT2CvZDww1"
      },
      "outputs": [],
      "source": [
        "\n",
        "\n",
        "def thresholded_prediction(probs, thresholds):\n",
        "    probs = np.array(probs)\n",
        "    thresholds = np.array(thresholds)\n",
        "    normalized = probs / thresholds\n",
        "    return np.argmax(normalized, axis=1)\n"
      ]
    },
    {
      "cell_type": "code",
      "execution_count": 61,
      "metadata": {
        "colab": {
          "base_uri": "https://localhost:8080/"
        },
        "id": "rXfn1Qkv4sbM",
        "outputId": "739321d0-0cac-4398-8b98-7e995b794c7d"
      },
      "outputs": [
        {
          "name": "stdout",
          "output_type": "stream",
          "text": [
            "Best Thresholds: (np.float64(0.44999999999999996), np.float64(0.44999999999999996), np.float64(0.5))\n",
            "Best Macro F1 Score: 0.3927688016274031\n"
          ]
        }
      ],
      "source": [
        "grid = np.linspace(0.2, 0.6, 9)\n",
        "best_f1 = 0\n",
        "best_thresholds = (1.0, 1.0, 1.0)\n",
        "\n",
        "y_proba_val = xgb_model.predict_proba(X_val_fused)\n",
        "\n",
        "for t0, t1, t2 in product(grid, grid, grid):\n",
        "    thresholds = (t0, t1, t2)\n",
        "    y_pred_val = thresholded_prediction(y_proba_val, thresholds)\n",
        "    f1 = f1_score(y_val_lstm, y_pred_val, average='macro')\n",
        "    if f1 > best_f1:\n",
        "        best_f1 = f1\n",
        "        best_thresholds = thresholds\n",
        "\n",
        "print(\"Best Thresholds:\", best_thresholds)\n",
        "print(\"Best Macro F1 Score:\", best_f1)\n"
      ]
    },
    {
      "cell_type": "code",
      "execution_count": 62,
      "metadata": {
        "colab": {
          "base_uri": "https://localhost:8080/"
        },
        "id": "Mx4qDZWOfcEf",
        "outputId": "8474310a-2d0d-40f5-a543-b940b2835e7b"
      },
      "outputs": [
        {
          "name": "stdout",
          "output_type": "stream",
          "text": [
            "\n",
            " Thresholded Test Accuracy: 0.45\n",
            "              precision    recall  f1-score   support\n",
            "\n",
            "           0       0.27      0.39      0.32       522\n",
            "           1       0.60      0.62      0.61      1227\n",
            "           2       0.29      0.15      0.20       611\n",
            "\n",
            "    accuracy                           0.45      2360\n",
            "   macro avg       0.39      0.39      0.38      2360\n",
            "weighted avg       0.45      0.45      0.44      2360\n",
            "\n"
          ]
        }
      ],
      "source": [
        "t0, t1, t2 = best_thresholds\n",
        "y_proba_test = xgb_model.predict_proba(X_test_fused)\n",
        "y_pred_test = thresholded_prediction(y_proba_test, best_thresholds)\n",
        "\n",
        "print(\"\\n Thresholded Test Accuracy:\", accuracy_score(y_test_lstm, y_pred_test))\n",
        "print(classification_report(y_test_lstm, y_pred_test))"
      ]
    },
    {
      "cell_type": "code",
      "execution_count": null,
      "metadata": {
        "colab": {
          "base_uri": "https://localhost:8080/"
        },
        "id": "C-DcOvn0kbJm",
        "outputId": "a1d6497f-48a5-492e-ad95-1423fe993dca"
      },
      "outputs": [
        {
          "name": "stdout",
          "output_type": "stream",
          "text": [
            "Best ensemble weight for XGBoost: 0.2163265306122449\n",
            "Best ensemble test accuracy: 0.533898\n",
            "Classification report:\n",
            "               precision    recall  f1-score   support\n",
            "\n",
            "           0     0.3542    0.1628    0.2231       522\n",
            "           1     0.5736    0.8989    0.7003      1227\n",
            "           2     0.3655    0.1178    0.1782       611\n",
            "\n",
            "    accuracy                         0.5339      2360\n",
            "   macro avg     0.4311    0.3932    0.3672      2360\n",
            "weighted avg     0.4712    0.5339    0.4596      2360\n",
            "\n"
          ]
        }
      ],
      "source": [
        "alphas = np.linspace(0.2, 1.0, 50)\n",
        "\n",
        "best_alpha = None\n",
        "best_acc = 0\n",
        "best_report = None\n",
        "\n",
        "for alpha in alphas:\n",
        "    combined_probs = alpha * y_probs_xgb + (1 - alpha) * y_pred_lstm\n",
        "    combined_preds = np.argmax(combined_probs, axis=1)\n",
        "\n",
        "    acc = accuracy_score(y_test_lstm, combined_preds)\n",
        "\n",
        "    if acc > best_acc:\n",
        "        best_acc = acc\n",
        "        best_alpha = alpha\n",
        "        best_report = classification_report(y_test_lstm, combined_preds, digits=4)\n",
        "\n",
        "print(f\"Best ensemble weight for XGBoost: {best_alpha}\")\n",
        "print(f\"Best ensemble test accuracy: {best_acc:.6f}\")\n",
        "print(\"Classification report:\\n\", best_report)\n"
      ]
    },
    {
      "cell_type": "code",
      "execution_count": 64,
      "metadata": {
        "colab": {
          "base_uri": "https://localhost:8080/"
        },
        "id": "ni7WZn8Er9GS",
        "outputId": "c4b31cc2-d71e-4deb-b5cf-464ecf9294e9"
      },
      "outputs": [
        {
          "name": "stdout",
          "output_type": "stream",
          "text": [
            "0.5338983050847458\n",
            "              precision    recall  f1-score   support\n",
            "\n",
            "           0       0.35      0.16      0.22       522\n",
            "           1       0.57      0.90      0.70      1227\n",
            "           2       0.37      0.12      0.18       611\n",
            "\n",
            "    accuracy                           0.53      2360\n",
            "   macro avg       0.43      0.39      0.37      2360\n",
            "weighted avg       0.47      0.53      0.46      2360\n",
            "\n"
          ]
        }
      ],
      "source": [
        "y_probs_xgb\n",
        "y_pred_lstm\n",
        "final_probs = best_alpha * y_probs_xgb + (1- best_alpha) * y_pred_lstm\n",
        "y_ensemble = np.argmax(final_probs, axis=1)\n",
        "print(accuracy_score(y_test_lstm, y_ensemble))\n",
        "print(classification_report(y_test_lstm, y_ensemble))"
      ]
    }
  ],
  "metadata": {
    "colab": {
      "provenance": []
    },
    "kernelspec": {
      "display_name": "Python 3",
      "name": "python3"
    },
    "language_info": {
      "name": "python"
    }
  },
  "nbformat": 4,
  "nbformat_minor": 0
}
