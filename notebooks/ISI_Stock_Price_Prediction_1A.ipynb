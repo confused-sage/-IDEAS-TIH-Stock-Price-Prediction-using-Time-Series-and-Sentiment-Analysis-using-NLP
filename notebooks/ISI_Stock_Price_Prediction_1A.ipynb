{
  "cells": [
    {
      "cell_type": "code",
      "execution_count": 18,
      "metadata": {
        "colab": {
          "base_uri": "https://localhost:8080/"
        },
        "id": "mr8O98iNkML5",
        "outputId": "4b46f2e8-9c48-4f61-dc03-135ebe58f3e4"
      },
      "outputs": [
        {
          "name": "stdout",
          "output_type": "stream",
          "text": [
            "Requirement already satisfied: pandas in d:\\anaconda3\\envs\\lb\\lib\\site-packages (2.3.0)\n",
            "Requirement already satisfied: numpy in d:\\anaconda3\\envs\\lb\\lib\\site-packages (2.1.3)\n",
            "Requirement already satisfied: scikit-learn in d:\\anaconda3\\envs\\lb\\lib\\site-packages (1.6.1)\n",
            "Requirement already satisfied: tensorflow in d:\\anaconda3\\envs\\lb\\lib\\site-packages (2.19.0)\n",
            "Requirement already satisfied: matplotlib in d:\\anaconda3\\envs\\lb\\lib\\site-packages (3.10.3)\n",
            "Requirement already satisfied: seaborn in d:\\anaconda3\\envs\\lb\\lib\\site-packages (0.13.2)\n",
            "Requirement already satisfied: python-dateutil>=2.8.2 in d:\\anaconda3\\envs\\lb\\lib\\site-packages (from pandas) (2.8.2)\n",
            "Requirement already satisfied: pytz>=2020.1 in d:\\anaconda3\\envs\\lb\\lib\\site-packages (from pandas) (2024.1)\n",
            "Requirement already satisfied: tzdata>=2022.7 in d:\\anaconda3\\envs\\lb\\lib\\site-packages (from pandas) (2025.2)\n",
            "Requirement already satisfied: scipy>=1.6.0 in d:\\anaconda3\\envs\\lb\\lib\\site-packages (from scikit-learn) (1.15.3)\n",
            "Requirement already satisfied: joblib>=1.2.0 in d:\\anaconda3\\envs\\lb\\lib\\site-packages (from scikit-learn) (1.4.2)\n",
            "Requirement already satisfied: threadpoolctl>=3.1.0 in d:\\anaconda3\\envs\\lb\\lib\\site-packages (from scikit-learn) (3.5.0)\n",
            "Requirement already satisfied: absl-py>=1.0.0 in d:\\anaconda3\\envs\\lb\\lib\\site-packages (from tensorflow) (2.1.0)\n",
            "Requirement already satisfied: astunparse>=1.6.0 in d:\\anaconda3\\envs\\lb\\lib\\site-packages (from tensorflow) (1.6.3)\n",
            "Requirement already satisfied: flatbuffers>=24.3.25 in d:\\anaconda3\\envs\\lb\\lib\\site-packages (from tensorflow) (24.3.25)\n",
            "Requirement already satisfied: gast!=0.5.0,!=0.5.1,!=0.5.2,>=0.2.1 in d:\\anaconda3\\envs\\lb\\lib\\site-packages (from tensorflow) (0.5.3)\n",
            "Requirement already satisfied: google-pasta>=0.1.1 in d:\\anaconda3\\envs\\lb\\lib\\site-packages (from tensorflow) (0.2.0)\n",
            "Requirement already satisfied: libclang>=13.0.0 in d:\\anaconda3\\envs\\lb\\lib\\site-packages (from tensorflow) (18.1.1)\n",
            "Requirement already satisfied: opt-einsum>=2.3.2 in d:\\anaconda3\\envs\\lb\\lib\\site-packages (from tensorflow) (3.3.0)\n",
            "Requirement already satisfied: packaging in d:\\anaconda3\\envs\\lb\\lib\\site-packages (from tensorflow) (24.2)\n",
            "Requirement already satisfied: protobuf!=4.21.0,!=4.21.1,!=4.21.2,!=4.21.3,!=4.21.4,!=4.21.5,<6.0.0dev,>=3.20.3 in d:\\anaconda3\\envs\\lb\\lib\\site-packages (from tensorflow) (5.29.3)\n",
            "Requirement already satisfied: requests<3,>=2.21.0 in d:\\anaconda3\\envs\\lb\\lib\\site-packages (from tensorflow) (2.32.3)\n",
            "Requirement already satisfied: setuptools in d:\\anaconda3\\envs\\lb\\lib\\site-packages (from tensorflow) (80.9.0)\n",
            "Requirement already satisfied: six>=1.12.0 in d:\\anaconda3\\envs\\lb\\lib\\site-packages (from tensorflow) (1.17.0)\n",
            "Requirement already satisfied: termcolor>=1.1.0 in d:\\anaconda3\\envs\\lb\\lib\\site-packages (from tensorflow) (2.1.0)\n",
            "Requirement already satisfied: typing-extensions>=3.6.6 in d:\\anaconda3\\envs\\lb\\lib\\site-packages (from tensorflow) (4.13.2)\n",
            "Requirement already satisfied: wrapt>=1.11.0 in d:\\anaconda3\\envs\\lb\\lib\\site-packages (from tensorflow) (1.17.0)\n",
            "Requirement already satisfied: grpcio<2.0,>=1.24.3 in d:\\anaconda3\\envs\\lb\\lib\\site-packages (from tensorflow) (1.71.0)\n",
            "Requirement already satisfied: tensorboard~=2.19.0 in d:\\anaconda3\\envs\\lb\\lib\\site-packages (from tensorflow) (2.19.0)\n",
            "Requirement already satisfied: keras>=3.5.0 in d:\\anaconda3\\envs\\lb\\lib\\site-packages (from tensorflow) (3.10.0)\n",
            "Requirement already satisfied: h5py>=3.11.0 in d:\\anaconda3\\envs\\lb\\lib\\site-packages (from tensorflow) (3.12.1)\n",
            "Requirement already satisfied: ml-dtypes<1.0.0,>=0.5.1 in d:\\anaconda3\\envs\\lb\\lib\\site-packages (from tensorflow) (0.5.1)\n",
            "Requirement already satisfied: tensorflow-io-gcs-filesystem>=0.23.1 in d:\\anaconda3\\envs\\lb\\lib\\site-packages (from tensorflow) (0.31.0)\n",
            "Requirement already satisfied: charset-normalizer<4,>=2 in d:\\anaconda3\\envs\\lb\\lib\\site-packages (from requests<3,>=2.21.0->tensorflow) (3.3.2)\n",
            "Requirement already satisfied: idna<4,>=2.5 in d:\\anaconda3\\envs\\lb\\lib\\site-packages (from requests<3,>=2.21.0->tensorflow) (3.7)\n",
            "Requirement already satisfied: urllib3<3,>=1.21.1 in d:\\anaconda3\\envs\\lb\\lib\\site-packages (from requests<3,>=2.21.0->tensorflow) (2.4.0)\n",
            "Requirement already satisfied: certifi>=2017.4.17 in d:\\anaconda3\\envs\\lb\\lib\\site-packages (from requests<3,>=2.21.0->tensorflow) (2025.4.26)\n",
            "Requirement already satisfied: markdown>=2.6.8 in d:\\anaconda3\\envs\\lb\\lib\\site-packages (from tensorboard~=2.19.0->tensorflow) (3.8)\n",
            "Requirement already satisfied: tensorboard-data-server<0.8.0,>=0.7.0 in d:\\anaconda3\\envs\\lb\\lib\\site-packages (from tensorboard~=2.19.0->tensorflow) (0.7.0)\n",
            "Requirement already satisfied: werkzeug>=1.0.1 in d:\\anaconda3\\envs\\lb\\lib\\site-packages (from tensorboard~=2.19.0->tensorflow) (3.1.3)\n",
            "Requirement already satisfied: contourpy>=1.0.1 in d:\\anaconda3\\envs\\lb\\lib\\site-packages (from matplotlib) (1.3.1)\n",
            "Requirement already satisfied: cycler>=0.10 in d:\\anaconda3\\envs\\lb\\lib\\site-packages (from matplotlib) (0.11.0)\n",
            "Requirement already satisfied: fonttools>=4.22.0 in d:\\anaconda3\\envs\\lb\\lib\\site-packages (from matplotlib) (4.55.3)\n",
            "Requirement already satisfied: kiwisolver>=1.3.1 in d:\\anaconda3\\envs\\lb\\lib\\site-packages (from matplotlib) (1.4.8)\n",
            "Requirement already satisfied: pillow>=8 in d:\\anaconda3\\envs\\lb\\lib\\site-packages (from matplotlib) (11.1.0)\n",
            "Requirement already satisfied: pyparsing>=2.3.1 in d:\\anaconda3\\envs\\lb\\lib\\site-packages (from matplotlib) (3.2.0)\n",
            "Requirement already satisfied: wheel<1.0,>=0.23.0 in d:\\anaconda3\\envs\\lb\\lib\\site-packages (from astunparse>=1.6.0->tensorflow) (0.45.1)\n",
            "Requirement already satisfied: rich in d:\\anaconda3\\envs\\lb\\lib\\site-packages (from keras>=3.5.0->tensorflow) (13.9.4)\n",
            "Requirement already satisfied: namex in d:\\anaconda3\\envs\\lb\\lib\\site-packages (from keras>=3.5.0->tensorflow) (0.0.7)\n",
            "Requirement already satisfied: optree in d:\\anaconda3\\envs\\lb\\lib\\site-packages (from keras>=3.5.0->tensorflow) (0.14.1)\n",
            "Requirement already satisfied: MarkupSafe>=2.1.1 in d:\\anaconda3\\envs\\lb\\lib\\site-packages (from werkzeug>=1.0.1->tensorboard~=2.19.0->tensorflow) (3.0.2)\n",
            "Requirement already satisfied: markdown-it-py>=2.2.0 in d:\\anaconda3\\envs\\lb\\lib\\site-packages (from rich->keras>=3.5.0->tensorflow) (2.2.0)\n",
            "Requirement already satisfied: pygments<3.0.0,>=2.13.0 in d:\\anaconda3\\envs\\lb\\lib\\site-packages (from rich->keras>=3.5.0->tensorflow) (2.19.1)\n",
            "Requirement already satisfied: mdurl~=0.1 in d:\\anaconda3\\envs\\lb\\lib\\site-packages (from markdown-it-py>=2.2.0->rich->keras>=3.5.0->tensorflow) (0.1.0)\n"
          ]
        }
      ],
      "source": [
        "! pip install pandas numpy scikit-learn tensorflow matplotlib seaborn"
      ]
    },
    {
      "cell_type": "code",
      "execution_count": 19,
      "metadata": {
        "id": "XD4S0su5qU3J"
      },
      "outputs": [],
      "source": [
        "# Imports\n",
        "import pandas as pd\n",
        "import pandas_datareader.data as pdr\n",
        "import matplotlib.pyplot as plt\n",
        "import numpy as np\n",
        "import yfinance as yf\n",
        "import seaborn as sns\n",
        "import os\n",
        "import tensorflow\n",
        "import keras\n",
        "\n",
        "from datetime import datetime\n",
        "from pathlib import Path"
      ]
    },
    {
      "cell_type": "code",
      "execution_count": 20,
      "metadata": {},
      "outputs": [],
      "source": [
        "# Setting up the subfolder to store stock price data\n",
        "\n",
        "project_root = Path.cwd().parent\n",
        "price_data_path = project_root / \"data\" / \"price-data\"\n",
        "price_data_path.mkdir(exist_ok=True)"
      ]
    },
    {
      "cell_type": "code",
      "execution_count": 21,
      "metadata": {
        "colab": {
          "base_uri": "https://localhost:8080/"
        },
        "id": "VFOb99xHqaCT",
        "outputId": "fe273f33-d41e-467d-ae8a-864449ea9163"
      },
      "outputs": [
        {
          "name": "stderr",
          "output_type": "stream",
          "text": [
            "[*********************100%***********************]  1 of 1 completed\n",
            "[*********************100%***********************]  1 of 1 completed\n",
            "[*********************100%***********************]  1 of 1 completed\n",
            "[*********************100%***********************]  1 of 1 completed\n",
            "[*********************100%***********************]  1 of 1 completed\n"
          ]
        }
      ],
      "source": [
        "start = datetime(2009, 4, 1)\n",
        "end = datetime(2025, 4, 1)\n",
        "tickers = ['AAPL', 'MSFT', 'AMZN', 'JNJ', 'NVDA']\n",
        "for ticker in tickers:\n",
        "  # Downloading the stock price data from Yahoo Finance\n",
        "  data = yf.download( ticker, start=start, end=end, auto_adjust=True)\n",
        "\n",
        "  # Reset Index\n",
        "  data.reset_index(inplace=True)\n",
        "\n",
        "  # Rename and reordering columns\n",
        "  data = data[['Date', 'Close', 'High', 'Low', 'Open', 'Volume']]\n",
        "\n",
        "  # Loading the CSV, from the specified subfolders\n",
        "  df = pd.read_csv(price_data_path / f\"{ticker}.csv\", skiprows=[1])\n",
        "\n",
        "  # Saving DataFrame as CSV file in specified subfolder\n",
        "  df.to_csv(price_data_path / f\"{ticker}.csv\", index=False)"
      ]
    },
    {
      "cell_type": "code",
      "execution_count": 22,
      "metadata": {},
      "outputs": [],
      "source": [
        "# Stock price data stored in \"\\data\\price\" folder"
      ]
    },
    {
      "cell_type": "code",
      "execution_count": 23,
      "metadata": {
        "id": "tD79TIyAqtFv"
      },
      "outputs": [
        {
          "name": "stdout",
          "output_type": "stream",
          "text": [
            "         Date     Close      High       Low      Open      Volume\n",
            "0  2009-04-02  0.242530  0.246885  0.237028  0.240467  1002860000\n",
            "1  2009-04-03  0.259493  0.260181  0.238633  0.242759  1003208000\n",
            "2  2009-04-06  0.260181  0.262473  0.251699  0.255138   887288000\n",
            "3  2009-04-07  0.251241  0.257889  0.249636  0.255138   607804000\n",
            "4  2009-04-08  0.261556  0.262244  0.251929  0.253992   731652000\n",
            "<class 'pandas.core.frame.DataFrame'>\n",
            "RangeIndex: 4024 entries, 0 to 4023\n",
            "Data columns (total 6 columns):\n",
            " #   Column  Non-Null Count  Dtype  \n",
            "---  ------  --------------  -----  \n",
            " 0   Date    4024 non-null   object \n",
            " 1   Close   4024 non-null   float64\n",
            " 2   High    4024 non-null   float64\n",
            " 3   Low     4024 non-null   float64\n",
            " 4   Open    4024 non-null   float64\n",
            " 5   Volume  4024 non-null   int64  \n",
            "dtypes: float64(4), int64(1), object(1)\n",
            "memory usage: 188.8+ KB\n",
            "None\n"
          ]
        }
      ],
      "source": [
        "print(df.head())\n",
        "print(df.info())"
      ]
    }
  ],
  "metadata": {
    "colab": {
      "provenance": []
    },
    "kernelspec": {
      "display_name": "lb",
      "language": "python",
      "name": "python3"
    },
    "language_info": {
      "codemirror_mode": {
        "name": "ipython",
        "version": 3
      },
      "file_extension": ".py",
      "mimetype": "text/x-python",
      "name": "python",
      "nbconvert_exporter": "python",
      "pygments_lexer": "ipython3",
      "version": "3.10.18"
    }
  },
  "nbformat": 4,
  "nbformat_minor": 0
}
