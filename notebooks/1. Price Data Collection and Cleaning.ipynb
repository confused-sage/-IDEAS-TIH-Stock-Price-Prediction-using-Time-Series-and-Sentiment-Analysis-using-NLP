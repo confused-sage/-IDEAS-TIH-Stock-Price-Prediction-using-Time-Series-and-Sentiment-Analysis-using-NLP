{
  "cells": [
    {
      "cell_type": "code",
      "execution_count": 2,
      "metadata": {
        "id": "XD4S0su5qU3J"
      },
      "outputs": [],
      "source": [
        "# Imports\n",
        "import pandas as pd\n",
        "import pandas_datareader.data as pdr\n",
        "import matplotlib.pyplot as plt\n",
        "import numpy as np\n",
        "import yfinance as yf\n",
        "import os\n",
        "\n",
        "from datetime import datetime\n",
        "from pathlib import Path"
      ]
    },
    {
      "cell_type": "code",
      "execution_count": 3,
      "metadata": {},
      "outputs": [],
      "source": [
        "# Setting up the subfolder to store stock price data\n",
        "\n",
        "project_root = Path.cwd().parent\n",
        "price_data_path = project_root / \"data\" / \"price-data\"\n",
        "price_data_path.mkdir(exist_ok=True)"
      ]
    },
    {
      "cell_type": "code",
      "execution_count": 4,
      "metadata": {
        "colab": {
          "base_uri": "https://localhost:8080/"
        },
        "id": "VFOb99xHqaCT",
        "outputId": "fe273f33-d41e-467d-ae8a-864449ea9163"
      },
      "outputs": [
        {
          "name": "stderr",
          "output_type": "stream",
          "text": [
            "[*********************100%***********************]  1 of 1 completed\n",
            "[*********************100%***********************]  1 of 1 completed\n",
            "[*********************100%***********************]  1 of 1 completed\n",
            "[*********************100%***********************]  1 of 1 completed\n",
            "[*********************100%***********************]  1 of 1 completed\n"
          ]
        }
      ],
      "source": [
        "start = datetime(2009, 4, 1)\n",
        "end = datetime(2025, 4, 2)\n",
        "tickers = ['AAPL', 'MSFT', 'AMZN', 'JNJ', 'NVDA']\n",
        "for ticker in tickers:\n",
        "  # Downloading the stock price data from Yahoo Finance\n",
        "  data = yf.download( ticker, start=start, end=end, interval='1d', auto_adjust=False)\n",
        "\n",
        "  # Reset Index\n",
        "  data.reset_index(inplace=True)\n",
        "\n",
        "  # Rename and reordering columns\n",
        "  data = data[['Date', 'Close', 'High', 'Low', 'Open', 'Volume']]\n",
        "\n",
        "  # Loading the CSV, from the specified subfolders\n",
        "  df = pd.read_csv(price_data_path / f\"{ticker}.csv\", skiprows=[1])\n",
        "\n",
        "  # Saving DataFrame as CSV file in specified subfolder\n",
        "  df.to_csv(price_data_path / f\"{ticker}.csv\", index=False)"
      ]
    },
    {
      "cell_type": "code",
      "execution_count": 22,
      "metadata": {},
      "outputs": [],
      "source": [
        "# Stock price data stored in \"\\data\\price\" folder"
      ]
    },
    {
      "cell_type": "code",
      "execution_count": 5,
      "metadata": {
        "id": "tD79TIyAqtFv"
      },
      "outputs": [
        {
          "name": "stdout",
          "output_type": "stream",
          "text": [
            "         Date    Close     High      Low     Open      Volume\n",
            "0  2009-04-02  0.26450  0.26925  0.25850  0.26225  1002860000\n",
            "1  2009-04-03  0.28300  0.28375  0.26025  0.26475  1003208000\n",
            "2  2009-04-06  0.28375  0.28625  0.27450  0.27825   887288000\n",
            "3  2009-04-07  0.27400  0.28125  0.27225  0.27825   607804000\n",
            "4  2009-04-08  0.28525  0.28600  0.27475  0.27700   731652000\n",
            "<class 'pandas.core.frame.DataFrame'>\n",
            "RangeIndex: 4025 entries, 0 to 4024\n",
            "Data columns (total 6 columns):\n",
            " #   Column  Non-Null Count  Dtype  \n",
            "---  ------  --------------  -----  \n",
            " 0   Date    4025 non-null   object \n",
            " 1   Close   4025 non-null   float64\n",
            " 2   High    4025 non-null   float64\n",
            " 3   Low     4025 non-null   float64\n",
            " 4   Open    4025 non-null   float64\n",
            " 5   Volume  4025 non-null   int64  \n",
            "dtypes: float64(4), int64(1), object(1)\n",
            "memory usage: 188.8+ KB\n",
            "None\n"
          ]
        }
      ],
      "source": [
        "print(df.head())\n",
        "print(df.info())"
      ]
    },
    {
      "cell_type": "code",
      "execution_count": null,
      "metadata": {},
      "outputs": [],
      "source": []
    }
  ],
  "metadata": {
    "colab": {
      "provenance": []
    },
    "kernelspec": {
      "display_name": "lb",
      "language": "python",
      "name": "python3"
    },
    "language_info": {
      "codemirror_mode": {
        "name": "ipython",
        "version": 3
      },
      "file_extension": ".py",
      "mimetype": "text/x-python",
      "name": "python",
      "nbconvert_exporter": "python",
      "pygments_lexer": "ipython3",
      "version": "3.10.18"
    }
  },
  "nbformat": 4,
  "nbformat_minor": 0
}
